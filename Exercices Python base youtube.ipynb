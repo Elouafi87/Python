{
 "cells": [
  {
   "cell_type": "code",
   "execution_count": 1,
   "metadata": {},
   "outputs": [
    {
     "name": "stdout",
     "output_type": "stream",
     "text": [
      "bonjour  TOTO momo tu as 32 ans\n"
     ]
    }
   ],
   "source": [
    "prenom = \"momo\"\n",
    "nom = \"TOTO\"\n",
    "age = 32\n",
    "print (\"bonjour \",nom, prenom,\"tu as\",age ,\"ans\")"
   ]
  },
  {
   "cell_type": "code",
   "execution_count": 2,
   "metadata": {},
   "outputs": [
    {
     "name": "stdout",
     "output_type": "stream",
     "text": [
      "nbr2 : 6 est plus grand que nbr1 : 5\n"
     ]
    }
   ],
   "source": [
    "nbr1 = 5\n",
    "nbr2 = 6\n",
    "\n",
    "if nbr1>nbr2:\n",
    "    print (\"nbr1 :\", nbr1 , \"est plus grand que nbr2 :\",nbr2)\n",
    "if (nbr1==nbr2):\n",
    "    print (\"nbr2 = nbr1 =\",nbr1 )\n",
    "else:\n",
    "    print (\"nbr2 :\", nbr2,\"est plus grand que nbr1 :\",nbr1)"
   ]
  },
  {
   "cell_type": "code",
   "execution_count": 3,
   "metadata": {},
   "outputs": [
    {
     "name": "stdout",
     "output_type": "stream",
     "text": [
      "entrez votre nbr1: 5\n",
      "entrez votre nbr2: 3\n",
      "8\n"
     ]
    }
   ],
   "source": [
    "nbr1 = int(input(\"entrez votre nbr1: \"))\n",
    "nbr2 = int(input(\"entrez votre nbr2: \"))\n",
    "somme = nbr1 + nbr2\n",
    "print (somme)"
   ]
  },
  {
   "cell_type": "code",
   "execution_count": 4,
   "metadata": {},
   "outputs": [
    {
     "name": "stdout",
     "output_type": "stream",
     "text": [
      "entrez votre nbr1: 2\n",
      "entrez votre nbr2: 4\n",
      "8\n"
     ]
    }
   ],
   "source": [
    "nbr1 = int(input(\"entrez votre nbr1: \"))\n",
    "nbr2 = int(input(\"entrez votre nbr2: \"))\n",
    "mult = nbr1 * nbr2\n",
    "print (mult)"
   ]
  },
  {
   "cell_type": "code",
   "execution_count": 5,
   "metadata": {},
   "outputs": [
    {
     "name": "stdout",
     "output_type": "stream",
     "text": [
      "entrez votre nbr1: 15\n",
      "impair\n"
     ]
    }
   ],
   "source": [
    "nbr = int(input(\"entrez votre nbr1: \"))\n",
    "if (nbr < 0):\n",
    "    nbr = int(input(\"merci de saisir un nombre entier \"))\n",
    "if nbr%2 ==0:\n",
    "    print (\"pair\")\n",
    "else:\n",
    "    print (\"impair\")"
   ]
  },
  {
   "cell_type": "code",
   "execution_count": 7,
   "metadata": {},
   "outputs": [
    {
     "name": "stdout",
     "output_type": "stream",
     "text": [
      "entrez votre age: 22\n",
      "vous etes majour\n"
     ]
    }
   ],
   "source": [
    "age = int(input(\"entrez votre age: \"))\n",
    "\n",
    "if age < 18:\n",
    "    print('vous êtes MINEUR')\n",
    "else:\n",
    "    print('vous êtes MAJEUR')"
   ]
  },
  {
   "cell_type": "code",
   "execution_count": 8,
   "metadata": {},
   "outputs": [
    {
     "name": "stdout",
     "output_type": "stream",
     "text": [
      "entrez votre nbr1: 3\n",
      "entrez votre nbr2: 4\n",
      "entrez votre nbr3: 5\n",
      "nbr 3 est le max des 3\n"
     ]
    }
   ],
   "source": [
    "nbr1 = int(input(\"entrez votre nbr1: \"))\n",
    "nbr2 = int(input(\"entrez votre nbr2: \"))\n",
    "nbr3 = int(input(\"entrez votre nbr3: \"))\n",
    "\n",
    "if (nbr1>nbr2) and (nbr1 >nbr3):\n",
    "    print (\"nbr 1 est le max des 3\")\n",
    "elif (nbr2>nbr1) and (nbr2>nbr3):\n",
    "    print (\"nbr 2 est le max des 3\")\n",
    "elif (nbr3>nbr1) and (nbr3>nbr2):\n",
    "    print (\"nbr 3 est le max des 3\")    \n",
    "else:\n",
    "    print (\"merci de saisir 3 nombres différents\")"
   ]
  },
  {
   "cell_type": "code",
   "execution_count": null,
   "metadata": {},
   "outputs": [],
   "source": [
    "def maximum(x,y):\n",
    "    if x > y:\n",
    "        return x\n",
    "    else:\n",
    "        return y\n",
    "nbr1 = int(input(\"entrez votre nbr1: \"))\n",
    "nbr2 = int(input(\"entrez votre nbr2: \"))\n",
    "nbr3 = int(input(\"entrez votre nbr3: \"))\n",
    "nbr4 = int(input(\"entrez votre nbr4: \"))\n",
    "maximum(nbr1,nbr4)\n",
    "maximum(nbr2,nbr3)\n",
    "max = maximum(maximum(nbr1,nbr4),maximum(nbr2,nbr3))\n",
    "print(\"le max des 3 nombres est \", max)"
   ]
  },
  {
   "cell_type": "code",
   "execution_count": null,
   "metadata": {},
   "outputs": [],
   "source": [
    "n = int(input(\"merci de saisir un nombre: \"))\n",
    "while n< 0:\n",
    "    n= int(input(\"merci de saisir un nombre entier supperier à 0: \"))\n",
    "somme = 0\n",
    "for i in range (n+1):\n",
    "    somme = somme + i\n",
    "print (somme)"
   ]
  },
  {
   "cell_type": "code",
   "execution_count": null,
   "metadata": {},
   "outputs": [],
   "source": [
    "n = int(input(\"merci de saisir un nombre: \"))\n",
    "while n< 0:\n",
    "    n= int(input(\"merci de saisir un nombre entier supperier à 0: \"))\n",
    "fact = 1\n",
    "for i in range(1, n+1):\n",
    "    fact *= i\n",
    "\n",
    "print (\"le factorielle de\", n , \" est: \", fact)"
   ]
  },
  {
   "cell_type": "code",
   "execution_count": null,
   "metadata": {},
   "outputs": [],
   "source": [
    "n = int(input(\"merci de saisir un entier \"))\n",
    "while n < 0:\n",
    "    n =  int(input(\"merci de saisir un entier superieur à 0 \"))\n",
    "for i in range (1,n+1):\n",
    "    if(n%i==0):\n",
    "        print (i, \"est diviseur de: \", n)"
   ]
  },
  {
   "cell_type": "code",
   "execution_count": null,
   "metadata": {},
   "outputs": [],
   "source": [
    "n = int (input(\"merci de saisir un nombre entier: \"))\n",
    "while (10<n or n< 0):\n",
    "    n = int(input(\"merci de saisir un nombre entier superieur à 0 et inferieur à 10 \\t\"))\n",
    "for i in range(0,10):\n",
    "    table = i * n\n",
    "    print (i ,\"*\",n,\"=\", table)"
   ]
  },
  {
   "cell_type": "code",
   "execution_count": null,
   "metadata": {},
   "outputs": [],
   "source": [
    "for i in range(0,10):\n",
    "    print (\"voici la table de mutiplication de : \", i)\n",
    "    for j in range(0,10):\n",
    "        table = i * j\n",
    "        print (i ,\"*\",n,\"=\", table)"
   ]
  },
  {
   "cell_type": "code",
   "execution_count": null,
   "metadata": {},
   "outputs": [],
   "source": [
    "mot = input(\"merci de saisir un mot\")\n",
    "for i in mot:\n",
    "    print (i)"
   ]
  },
  {
   "cell_type": "code",
   "execution_count": null,
   "metadata": {},
   "outputs": [],
   "source": [
    "mot = str(input(\"merci de saisir un mot\"))\n",
    "cpt = 0\n",
    "liste = []\n",
    "longeur = len(mot)\n",
    "for i in range(0,longeur):\n",
    "    if mot[i] not in liste:\n",
    "        liste.append(mot[i])\n",
    "        fois = mot.count(mot[i])\n",
    "        print (\"le caractere\", mot[i], \"apparait\",fois ,\"fois dans le mot \" ,mot)"
   ]
  },
  {
   "cell_type": "code",
   "execution_count": null,
   "metadata": {},
   "outputs": [],
   "source": [
    "s = \"maman\"\n",
    "l = len(s)\n",
    "list = []\n",
    "for i in range(0,l):\n",
    "    if s[i] == \"a\":\n",
    "        print (\"la lettre a se trouve à la position\",  i)\n",
    "        "
   ]
  },
  {
   "cell_type": "code",
   "execution_count": null,
   "metadata": {},
   "outputs": [],
   "source": [
    "s = \"tester\"\n",
    "voy = [\"a\",\"e\",\"i\",\"o\",\"u\",\"y\"]\n",
    "l = len(s)\n",
    "cpt = 0\n",
    "for i in range(0,l):\n",
    "    if s[i] in voy:\n",
    "        cpt+=1\n",
    "print (\"la chaine \", s ,\" contient\", cpt, \"voyelles\") \n",
    "        "
   ]
  },
  {
   "cell_type": "code",
   "execution_count": null,
   "metadata": {},
   "outputs": [],
   "source": [
    "mot=\"python, st langage de programation\"\n",
    "i = 0\n",
    "premier=\" \"\n",
    "while (mot[i] !=\",\"):\n",
    "    premier= premier+ mot[i]\n",
    "    i=i+1\n",
    "print (premier)"
   ]
  },
  {
   "cell_type": "code",
   "execution_count": null,
   "metadata": {},
   "outputs": [],
   "source": [
    "text = str(input(\"entrez un text \\n\"))\n",
    "liste = text.split(' ')\n",
    "for mot in liste:\n",
    "    if (mot[0] == \"a\"):\n",
    "        print (mot)"
   ]
  },
  {
   "cell_type": "code",
   "execution_count": null,
   "metadata": {},
   "outputs": [],
   "source": [
    "text = str(input(\"entrez un text \\n\"))\n",
    "ext = text.split('.')\n",
    "print(ext[-1])"
   ]
  },
  {
   "cell_type": "code",
   "execution_count": null,
   "metadata": {},
   "outputs": [],
   "source": [
    "\"\"\" supprimer les elements dupliqués\"\"\"\n",
    "liste = [1,2,6,2,8,1]\n",
    "li = []\n",
    "for i in liste:\n",
    "    if (i not in li):\n",
    "        li.append(i)\n",
    "print (li)"
   ]
  },
  {
   "cell_type": "code",
   "execution_count": null,
   "metadata": {},
   "outputs": [],
   "source": [
    "\"\"\" fonction supprimer  les elements dupliqués\"\"\"\n",
    "def removedup(l):\n",
    "    unique=[]\n",
    "    for x in l:\n",
    "        if x not in unique:\n",
    "            unique.append(x)\n",
    "    return unique\n",
    "    \n",
    "print(removedup([1,3,2,6,2,8,1]))"
   ]
  },
  {
   "cell_type": "code",
   "execution_count": null,
   "metadata": {},
   "outputs": [],
   "source": [
    "\"\"\" inverser mot\"\"\"\n",
    "mot = input(\"saisir un mot\\n\")\n",
    "reverse = \"\"\n",
    "for x in mot:\n",
    "    reverse =  x + reverse #attention ordre de concatenation\n",
    "print (reverse)"
   ]
  },
  {
   "cell_type": "code",
   "execution_count": null,
   "metadata": {},
   "outputs": [],
   "source": [
    "# palindrome \n",
    "mot = input(\"merci de saisir un mot\")\n",
    "\n",
    "inv = mot[::-1]\n",
    "if (mot == inv):\n",
    "    print (\"le mot \", mot, \" est un Palindrome\")\n",
    "else:\n",
    "    print (\"le mot \", mot, \" n'est pas un Palindrome\")"
   ]
  },
  {
   "cell_type": "code",
   "execution_count": null,
   "metadata": {},
   "outputs": [],
   "source": [
    "#extraire les paires/impaires d'une liste d'entiers\n",
    "l = [1,2,5,6,8,9,3]\n",
    "pair =[]\n",
    "impair=[]\n",
    "for i in l:\n",
    "    if (i%2==0):\n",
    "        pair.append(i)\n",
    "    else:\n",
    "        impair.append(i)\n",
    "print (\"liste des nombres paires \", pair)\n",
    "print (\"liste des nombres impaires \", impair)"
   ]
  },
  {
   "cell_type": "code",
   "execution_count": null,
   "metadata": {},
   "outputs": [],
   "source": [
    "#fonction extraire les paires/impaires d'une liste d'entiers\n",
    "def extraction(l):\n",
    "    pair =[]\n",
    "    impair=[]\n",
    "    for i in l:\n",
    "        if (i%2==0):\n",
    "            pair.append(i)\n",
    "        else:\n",
    "            impair.append(i)\n",
    "    print (\"liste des nombres paires \", pair)\n",
    "    print (\"liste des nombres impaires \", impair)\n",
    "\n",
    "extraction([1,5,6,4,3,9])    "
   ]
  },
  {
   "cell_type": "code",
   "execution_count": null,
   "metadata": {},
   "outputs": [],
   "source": [
    "#comparer deux listes si elles ont une valeur commune\n",
    "\n",
    "l1 = [1,5,3,4,9]\n",
    "l2 = [1,5,6,2,8]\n",
    "l3 = []\n",
    "cpt = 0 \n",
    "\n",
    "for i in l1:\n",
    "    if i in l2:\n",
    "        cpt= cpt+1\n",
    "        l3.append(i)\n",
    "print(\"les deux listes ont \", cpt ,\" element en commun qui sont\", l3)"
   ]
  },
  {
   "cell_type": "code",
   "execution_count": null,
   "metadata": {},
   "outputs": [],
   "source": [
    "#Extraire La Liste Des Notes Au Dessus De La Moyenne\n",
    "note = [12,4,11,18,5,10,8,13,12,16,9,8]\n",
    "moyen = []\n",
    "for i in note:\n",
    "    if (i >= 10):\n",
    "        moyen.append(i)\n",
    "\n",
    "print (moyen)"
   ]
  },
  {
   "cell_type": "code",
   "execution_count": null,
   "metadata": {},
   "outputs": [],
   "source": [
    "#Transformer Une Adresse Url En Un Lien Hypertexte\n",
    "url = input(\"merci de saisir un lien: \\n\")\n",
    "text_lien = input(\"merci de saisir le texte du lien: \\n\")\n",
    "\n",
    "lien = \"<a href=\"+url+\">\"+ text_lien +\"</a>\"\n",
    "\n",
    "htmlfile = open(\"text.html\",\"w\")\n",
    "htmlfile.write(lien)\n",
    "htmlfile.close()\n",
    "\n",
    "print (lien)"
   ]
  },
  {
   "cell_type": "code",
   "execution_count": null,
   "metadata": {},
   "outputs": [],
   "source": [
    "#Recherche Du Mot Le Plus Long Dans Une Chaine\n",
    "s = input('merci de saisir un texte\\n')\n",
    "liste = s.split()\n",
    "mot_max=\"\"\n",
    "for i in liste:\n",
    "    if (len(mot_max)< len(i)):\n",
    "        mot_max = i        \n",
    "print (\"le mot le plus grand est: \\n\", mot_max)  "
   ]
  },
  {
   "cell_type": "code",
   "execution_count": null,
   "metadata": {},
   "outputs": [],
   "source": [
    "#Recherche Du Mot Le Plus Long Dans Une Chaine avec une fonction\n",
    "def motMax(s):\n",
    "    L=s.split()\n",
    "    mot=\"\"\n",
    "    for x in L:\n",
    "        if (len(mot)<len(x)):\n",
    "            mot = x\n",
    "    return mot\n",
    "motMax(\"python est un langage de programmation orienté objet\")"
   ]
  },
  {
   "cell_type": "code",
   "execution_count": null,
   "metadata": {},
   "outputs": [],
   "source": [
    "# 'outil Itertools \n",
    "\n",
    "import itertools\n",
    "L = [1,2,\"n\"]\n",
    "\n",
    "permutation = itertools.permutations(L)\n",
    "L = list(permutation)\n",
    "\n",
    "print (L)"
   ]
  },
  {
   "cell_type": "code",
   "execution_count": null,
   "metadata": {},
   "outputs": [],
   "source": [
    "##Echanger Premier Mot et Dernier Mot d'un Texte\n",
    "s = input(\"merci de saisir un mot\\n\")\n",
    "L = s.split()\n",
    "n = len(L)\n",
    "premier= L[0]\n",
    "dernier = L[n-1]\n",
    "L.pop()\n",
    "L.pop(0)\n",
    "s1=\" \".join(L)\n",
    "print (s1)\n",
    "s2 = dernier + \" \" + s1 + \" \" + premier\n",
    "print (s2)"
   ]
  },
  {
   "cell_type": "code",
   "execution_count": null,
   "metadata": {},
   "outputs": [],
   "source": [
    "def insertEtoile(mot):\n",
    "    mot_etoile =\"\"\n",
    "    for i in range(0,len(mot)):\n",
    "        mot_etoile= mot_etoile+\"*\"+mot[i]\n",
    "    return mot_etoile\n",
    "insertEtoile('python')"
   ]
  },
  {
   "cell_type": "code",
   "execution_count": null,
   "metadata": {},
   "outputs": [],
   "source": [
    "#nombre d'éléments d'une liste qui sont divisibles par un entier donné\n",
    "\n",
    "n = int(input(\"merci de saisir un entier: \\n\"))\n",
    "l = [1,6,10,50,33,8,20,14,7,25]\n",
    "cpt = 0\n",
    "for i in l:\n",
    "    if (i%n==0):\n",
    "        cpt+=1\n",
    "print (\"nombre d'éléments qui sont divisibles par\", n, \"sont: \", cpt)"
   ]
  },
  {
   "cell_type": "code",
   "execution_count": null,
   "metadata": {},
   "outputs": [],
   "source": [
    "#nombre d'éléments d'une liste qui sont divisibles par un entier donné avec une fonction \n",
    "\n",
    "def devElement(L,n):\n",
    "    i = 0\n",
    "    for x in L:\n",
    "        if (x%n==0):\n",
    "            i+=1\n",
    "    return i\n",
    "n=3\n",
    "l = [1,6,10,50,33,8,20,14,7,25]\n",
    "print (\"nombre d'éléments qui sont divisibles par\", n, \"sont: \", devElement(l,n))"
   ]
  },
  {
   "cell_type": "code",
   "execution_count": null,
   "metadata": {},
   "outputs": [],
   "source": [
    "## nombre occurrences d'un élément dans une liste\n",
    "\n",
    "def nbrOcc(L,n):\n",
    "    i = 0\n",
    "    for x in L:\n",
    "        if (x==n):\n",
    "            i+=1\n",
    "    return i        \n",
    "n=3\n",
    "l = [1,3,10,3,3,8,7,3]\n",
    "print(\"nombre occurrences de \", n, \"dans la liste est de : \", nbrOcc(l,n))\n"
   ]
  },
  {
   "cell_type": "code",
   "execution_count": null,
   "metadata": {},
   "outputs": [],
   "source": [
    "##algorithme qui calcul la somme des nombres pairs et impairs\n",
    "\n",
    "\n",
    "n = int(input(\"merci de saisir un entier: \\n\"))\n",
    "sommeP = 0\n",
    "sommeI = 0\n",
    "for i in range(0,n+2):\n",
    "    if (i%2==0):\n",
    "        sommeP+= i\n",
    "    else:\n",
    "        sommeI+= i        \n",
    "print (\"somme nbr paires est:\\t\", sommeP, \"\\n\", \"somme nbr imapires est:\\t \",sommeI)"
   ]
  },
  {
   "cell_type": "code",
   "execution_count": null,
   "metadata": {},
   "outputs": [],
   "source": [
    "## Transformer les chaines d'une liste Python en majuscules\n",
    "\n",
    "def toutEnMajiscule(L):\n",
    "    list = []\n",
    "    for s in L:\n",
    "        s = s.upper()\n",
    "        list.append(s)\n",
    "    return list\n",
    "    \n",
    "l = [\"python\", \"est\", \"langage\",\"de\", \"programmation\"]\n",
    "\n",
    "print (toutEnMajiscule(l))"
   ]
  },
  {
   "cell_type": "code",
   "execution_count": null,
   "metadata": {},
   "outputs": [],
   "source": [
    "somme = 0\n",
    "for i in range (1,101):\n",
    "    somme= somme +i\n",
    "print (somme)"
   ]
  },
  {
   "cell_type": "code",
   "execution_count": null,
   "metadata": {},
   "outputs": [],
   "source": [
    "from random import *\n",
    "x = randint(1,9)\n",
    "print (x)"
   ]
  }
 ],
 "metadata": {
  "kernelspec": {
   "display_name": "Python 3",
   "language": "python",
   "name": "python3"
  },
  "language_info": {
   "codemirror_mode": {
    "name": "ipython",
    "version": 3
   },
   "file_extension": ".py",
   "mimetype": "text/x-python",
   "name": "python",
   "nbconvert_exporter": "python",
   "pygments_lexer": "ipython3",
   "version": "3.8.5"
  }
 },
 "nbformat": 4,
 "nbformat_minor": 2
}
