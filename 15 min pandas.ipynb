{
 "cells": [
  {
   "cell_type": "code",
   "execution_count": 1,
   "metadata": {},
   "outputs": [],
   "source": [
    "import pandas as pd\n",
    "import numpy as np"
   ]
  },
  {
   "cell_type": "code",
   "execution_count": 2,
   "metadata": {},
   "outputs": [
    {
     "data": {
      "text/plain": [
       "0    1.0\n",
       "1    2.0\n",
       "2    NaN\n",
       "3    8.0\n",
       "4    6.0\n",
       "5    9.0\n",
       "dtype: float64"
      ]
     },
     "execution_count": 2,
     "metadata": {},
     "output_type": "execute_result"
    }
   ],
   "source": [
    "# Création d'une série en passant une liste de valeurs\n",
    "pd.Series([1, 2,np.nan, 8,  6, 9])"
   ]
  },
  {
   "cell_type": "code",
   "execution_count": 3,
   "metadata": {},
   "outputs": [],
   "source": [
    "#Création d'un DataFrame en passant un tableau NumPy de 6L et 4C, \n",
    "# avec un index datetime et des colonnes étiquetées :\n",
    "dates = pd.date_range(\"20211201\", periods=6)\n",
    "df = pd.DataFrame(np.random.randn(6, 4), index=dates, columns=[\"A\",\"B\",\"C\",\"D\"])"
   ]
  },
  {
   "cell_type": "code",
   "execution_count": 4,
   "metadata": {},
   "outputs": [
    {
     "data": {
      "text/html": [
       "<div>\n",
       "<style scoped>\n",
       "    .dataframe tbody tr th:only-of-type {\n",
       "        vertical-align: middle;\n",
       "    }\n",
       "\n",
       "    .dataframe tbody tr th {\n",
       "        vertical-align: top;\n",
       "    }\n",
       "\n",
       "    .dataframe thead th {\n",
       "        text-align: right;\n",
       "    }\n",
       "</style>\n",
       "<table border=\"1\" class=\"dataframe\">\n",
       "  <thead>\n",
       "    <tr style=\"text-align: right;\">\n",
       "      <th></th>\n",
       "      <th>A</th>\n",
       "      <th>B</th>\n",
       "      <th>C</th>\n",
       "      <th>D</th>\n",
       "    </tr>\n",
       "  </thead>\n",
       "  <tbody>\n",
       "    <tr>\n",
       "      <th>2021-12-01</th>\n",
       "      <td>-0.687586</td>\n",
       "      <td>0.081658</td>\n",
       "      <td>-0.173364</td>\n",
       "      <td>-0.493577</td>\n",
       "    </tr>\n",
       "    <tr>\n",
       "      <th>2021-12-02</th>\n",
       "      <td>-1.525426</td>\n",
       "      <td>0.148381</td>\n",
       "      <td>-2.307267</td>\n",
       "      <td>-1.209358</td>\n",
       "    </tr>\n",
       "    <tr>\n",
       "      <th>2021-12-03</th>\n",
       "      <td>1.594105</td>\n",
       "      <td>0.762726</td>\n",
       "      <td>-0.124489</td>\n",
       "      <td>-2.855904</td>\n",
       "    </tr>\n",
       "    <tr>\n",
       "      <th>2021-12-04</th>\n",
       "      <td>1.860420</td>\n",
       "      <td>1.240073</td>\n",
       "      <td>-0.833928</td>\n",
       "      <td>1.886930</td>\n",
       "    </tr>\n",
       "    <tr>\n",
       "      <th>2021-12-05</th>\n",
       "      <td>-1.559737</td>\n",
       "      <td>0.551413</td>\n",
       "      <td>0.260708</td>\n",
       "      <td>0.340848</td>\n",
       "    </tr>\n",
       "  </tbody>\n",
       "</table>\n",
       "</div>"
      ],
      "text/plain": [
       "                   A         B         C         D\n",
       "2021-12-01 -0.687586  0.081658 -0.173364 -0.493577\n",
       "2021-12-02 -1.525426  0.148381 -2.307267 -1.209358\n",
       "2021-12-03  1.594105  0.762726 -0.124489 -2.855904\n",
       "2021-12-04  1.860420  1.240073 -0.833928  1.886930\n",
       "2021-12-05 -1.559737  0.551413  0.260708  0.340848"
      ]
     },
     "execution_count": 4,
     "metadata": {},
     "output_type": "execute_result"
    }
   ],
   "source": [
    "#voir le contenu du dataframe\n",
    "#df.head(2) # pour afficher les 2 premières lignes du df \n",
    "df.head()  # afficher les premières lignes du df (5 lignes par defaut)"
   ]
  },
  {
   "cell_type": "code",
   "execution_count": 5,
   "metadata": {},
   "outputs": [],
   "source": [
    "# df.tail()  : afficher les dernières lignes du df (5 lignes par defaut)\n",
    "# df.index   : afficher  les index du df  \n",
    "# df.columns : afficher  les colonnes du df  "
   ]
  },
  {
   "cell_type": "markdown",
   "metadata": {},
   "source": [
    "<h3 style='color:blue'>Selection des données "
   ]
  },
  {
   "cell_type": "markdown",
   "metadata": {},
   "source": [
    "d'après le site officiel, en  production, il est recommandé d'utiliser les méthodes d'accès aux données pandas optimisées à savoir:  .at, .iat, .loc et .iloc."
   ]
  },
  {
   "cell_type": "code",
   "execution_count": 6,
   "metadata": {},
   "outputs": [
    {
     "data": {
      "text/plain": [
       "2021-12-01   -0.687586\n",
       "2021-12-02   -1.525426\n",
       "2021-12-03    1.594105\n",
       "2021-12-04    1.860420\n",
       "2021-12-05   -1.559737\n",
       "2021-12-06    0.446557\n",
       "Freq: D, Name: A, dtype: float64"
      ]
     },
     "execution_count": 6,
     "metadata": {},
     "output_type": "execute_result"
    }
   ],
   "source": [
    "df[\"A\"] # afficher le contenu de la colonne A"
   ]
  },
  {
   "cell_type": "code",
   "execution_count": 7,
   "metadata": {},
   "outputs": [
    {
     "data": {
      "text/html": [
       "<div>\n",
       "<style scoped>\n",
       "    .dataframe tbody tr th:only-of-type {\n",
       "        vertical-align: middle;\n",
       "    }\n",
       "\n",
       "    .dataframe tbody tr th {\n",
       "        vertical-align: top;\n",
       "    }\n",
       "\n",
       "    .dataframe thead th {\n",
       "        text-align: right;\n",
       "    }\n",
       "</style>\n",
       "<table border=\"1\" class=\"dataframe\">\n",
       "  <thead>\n",
       "    <tr style=\"text-align: right;\">\n",
       "      <th></th>\n",
       "      <th>A</th>\n",
       "      <th>B</th>\n",
       "      <th>C</th>\n",
       "      <th>D</th>\n",
       "    </tr>\n",
       "  </thead>\n",
       "  <tbody>\n",
       "    <tr>\n",
       "      <th>2021-12-01</th>\n",
       "      <td>-0.687586</td>\n",
       "      <td>0.081658</td>\n",
       "      <td>-0.173364</td>\n",
       "      <td>-0.493577</td>\n",
       "    </tr>\n",
       "    <tr>\n",
       "      <th>2021-12-02</th>\n",
       "      <td>-1.525426</td>\n",
       "      <td>0.148381</td>\n",
       "      <td>-2.307267</td>\n",
       "      <td>-1.209358</td>\n",
       "    </tr>\n",
       "    <tr>\n",
       "      <th>2021-12-03</th>\n",
       "      <td>1.594105</td>\n",
       "      <td>0.762726</td>\n",
       "      <td>-0.124489</td>\n",
       "      <td>-2.855904</td>\n",
       "    </tr>\n",
       "  </tbody>\n",
       "</table>\n",
       "</div>"
      ],
      "text/plain": [
       "                   A         B         C         D\n",
       "2021-12-01 -0.687586  0.081658 -0.173364 -0.493577\n",
       "2021-12-02 -1.525426  0.148381 -2.307267 -1.209358\n",
       "2021-12-03  1.594105  0.762726 -0.124489 -2.855904"
      ]
     },
     "execution_count": 7,
     "metadata": {},
     "output_type": "execute_result"
    }
   ],
   "source": [
    "df[0:3] # afficher les 3 prenmières lignes "
   ]
  },
  {
   "cell_type": "code",
   "execution_count": 8,
   "metadata": {},
   "outputs": [
    {
     "data": {
      "text/html": [
       "<div>\n",
       "<style scoped>\n",
       "    .dataframe tbody tr th:only-of-type {\n",
       "        vertical-align: middle;\n",
       "    }\n",
       "\n",
       "    .dataframe tbody tr th {\n",
       "        vertical-align: top;\n",
       "    }\n",
       "\n",
       "    .dataframe thead th {\n",
       "        text-align: right;\n",
       "    }\n",
       "</style>\n",
       "<table border=\"1\" class=\"dataframe\">\n",
       "  <thead>\n",
       "    <tr style=\"text-align: right;\">\n",
       "      <th></th>\n",
       "      <th>A</th>\n",
       "      <th>B</th>\n",
       "    </tr>\n",
       "  </thead>\n",
       "  <tbody>\n",
       "    <tr>\n",
       "      <th>2021-12-01</th>\n",
       "      <td>-0.687586</td>\n",
       "      <td>0.081658</td>\n",
       "    </tr>\n",
       "    <tr>\n",
       "      <th>2021-12-02</th>\n",
       "      <td>-1.525426</td>\n",
       "      <td>0.148381</td>\n",
       "    </tr>\n",
       "    <tr>\n",
       "      <th>2021-12-03</th>\n",
       "      <td>1.594105</td>\n",
       "      <td>0.762726</td>\n",
       "    </tr>\n",
       "    <tr>\n",
       "      <th>2021-12-04</th>\n",
       "      <td>1.860420</td>\n",
       "      <td>1.240073</td>\n",
       "    </tr>\n",
       "    <tr>\n",
       "      <th>2021-12-05</th>\n",
       "      <td>-1.559737</td>\n",
       "      <td>0.551413</td>\n",
       "    </tr>\n",
       "    <tr>\n",
       "      <th>2021-12-06</th>\n",
       "      <td>0.446557</td>\n",
       "      <td>0.311279</td>\n",
       "    </tr>\n",
       "  </tbody>\n",
       "</table>\n",
       "</div>"
      ],
      "text/plain": [
       "                   A         B\n",
       "2021-12-01 -0.687586  0.081658\n",
       "2021-12-02 -1.525426  0.148381\n",
       "2021-12-03  1.594105  0.762726\n",
       "2021-12-04  1.860420  1.240073\n",
       "2021-12-05 -1.559737  0.551413\n",
       "2021-12-06  0.446557  0.311279"
      ]
     },
     "execution_count": 8,
     "metadata": {},
     "output_type": "execute_result"
    }
   ],
   "source": [
    "df.loc[:, [\"A\", \"B\"]] # utilisation de loc "
   ]
  },
  {
   "cell_type": "code",
   "execution_count": 9,
   "metadata": {},
   "outputs": [
    {
     "data": {
      "text/html": [
       "<div>\n",
       "<style scoped>\n",
       "    .dataframe tbody tr th:only-of-type {\n",
       "        vertical-align: middle;\n",
       "    }\n",
       "\n",
       "    .dataframe tbody tr th {\n",
       "        vertical-align: top;\n",
       "    }\n",
       "\n",
       "    .dataframe thead th {\n",
       "        text-align: right;\n",
       "    }\n",
       "</style>\n",
       "<table border=\"1\" class=\"dataframe\">\n",
       "  <thead>\n",
       "    <tr style=\"text-align: right;\">\n",
       "      <th></th>\n",
       "      <th>A</th>\n",
       "      <th>B</th>\n",
       "    </tr>\n",
       "  </thead>\n",
       "  <tbody>\n",
       "    <tr>\n",
       "      <th>2021-12-02</th>\n",
       "      <td>-1.525426</td>\n",
       "      <td>0.148381</td>\n",
       "    </tr>\n",
       "    <tr>\n",
       "      <th>2021-12-03</th>\n",
       "      <td>1.594105</td>\n",
       "      <td>0.762726</td>\n",
       "    </tr>\n",
       "    <tr>\n",
       "      <th>2021-12-04</th>\n",
       "      <td>1.860420</td>\n",
       "      <td>1.240073</td>\n",
       "    </tr>\n",
       "  </tbody>\n",
       "</table>\n",
       "</div>"
      ],
      "text/plain": [
       "                   A         B\n",
       "2021-12-02 -1.525426  0.148381\n",
       "2021-12-03  1.594105  0.762726\n",
       "2021-12-04  1.860420  1.240073"
      ]
     },
     "execution_count": 9,
     "metadata": {},
     "output_type": "execute_result"
    }
   ],
   "source": [
    "df.loc[\"20211202\":\"20211204\", [\"A\", \"B\"]]"
   ]
  },
  {
   "cell_type": "code",
   "execution_count": 10,
   "metadata": {},
   "outputs": [
    {
     "data": {
      "text/plain": [
       "A    1.860420\n",
       "B    1.240073\n",
       "C   -0.833928\n",
       "D    1.886930\n",
       "Name: 2021-12-04 00:00:00, dtype: float64"
      ]
     },
     "execution_count": 10,
     "metadata": {},
     "output_type": "execute_result"
    }
   ],
   "source": [
    "df.iloc[3] # la 4eme ligne"
   ]
  },
  {
   "cell_type": "code",
   "execution_count": 11,
   "metadata": {},
   "outputs": [
    {
     "data": {
      "text/html": [
       "<div>\n",
       "<style scoped>\n",
       "    .dataframe tbody tr th:only-of-type {\n",
       "        vertical-align: middle;\n",
       "    }\n",
       "\n",
       "    .dataframe tbody tr th {\n",
       "        vertical-align: top;\n",
       "    }\n",
       "\n",
       "    .dataframe thead th {\n",
       "        text-align: right;\n",
       "    }\n",
       "</style>\n",
       "<table border=\"1\" class=\"dataframe\">\n",
       "  <thead>\n",
       "    <tr style=\"text-align: right;\">\n",
       "      <th></th>\n",
       "      <th>A</th>\n",
       "      <th>B</th>\n",
       "      <th>C</th>\n",
       "    </tr>\n",
       "  </thead>\n",
       "  <tbody>\n",
       "    <tr>\n",
       "      <th>2021-12-03</th>\n",
       "      <td>1.594105</td>\n",
       "      <td>0.762726</td>\n",
       "      <td>-0.124489</td>\n",
       "    </tr>\n",
       "    <tr>\n",
       "      <th>2021-12-04</th>\n",
       "      <td>1.860420</td>\n",
       "      <td>1.240073</td>\n",
       "      <td>-0.833928</td>\n",
       "    </tr>\n",
       "  </tbody>\n",
       "</table>\n",
       "</div>"
      ],
      "text/plain": [
       "                   A         B         C\n",
       "2021-12-03  1.594105  0.762726 -0.124489\n",
       "2021-12-04  1.860420  1.240073 -0.833928"
      ]
     },
     "execution_count": 11,
     "metadata": {},
     "output_type": "execute_result"
    }
   ],
   "source": [
    "df.iloc[2:4, 0:3] # 2eme et 3eme lignes et les 3 premières colonnes "
   ]
  },
  {
   "cell_type": "code",
   "execution_count": 12,
   "metadata": {},
   "outputs": [
    {
     "data": {
      "text/plain": [
       "-0.12448935101063699"
      ]
     },
     "execution_count": 12,
     "metadata": {},
     "output_type": "execute_result"
    }
   ],
   "source": [
    "df.iloc[2, 2]"
   ]
  },
  {
   "cell_type": "code",
   "execution_count": 13,
   "metadata": {},
   "outputs": [],
   "source": [
    "# Ajout d'une nouvelle colonne\n",
    "s1 = pd.Series([1, 2, 3, 4, 5, 6], index=pd.date_range(\"20211202\", periods=6))\n",
    "\n",
    "df[\"F\"] = s1"
   ]
  },
  {
   "cell_type": "code",
   "execution_count": 14,
   "metadata": {},
   "outputs": [
    {
     "data": {
      "text/html": [
       "<div>\n",
       "<style scoped>\n",
       "    .dataframe tbody tr th:only-of-type {\n",
       "        vertical-align: middle;\n",
       "    }\n",
       "\n",
       "    .dataframe tbody tr th {\n",
       "        vertical-align: top;\n",
       "    }\n",
       "\n",
       "    .dataframe thead th {\n",
       "        text-align: right;\n",
       "    }\n",
       "</style>\n",
       "<table border=\"1\" class=\"dataframe\">\n",
       "  <thead>\n",
       "    <tr style=\"text-align: right;\">\n",
       "      <th></th>\n",
       "      <th>A</th>\n",
       "      <th>B</th>\n",
       "      <th>C</th>\n",
       "      <th>D</th>\n",
       "      <th>F</th>\n",
       "    </tr>\n",
       "  </thead>\n",
       "  <tbody>\n",
       "    <tr>\n",
       "      <th>2021-12-01</th>\n",
       "      <td>-0.687586</td>\n",
       "      <td>0.081658</td>\n",
       "      <td>-0.173364</td>\n",
       "      <td>-0.493577</td>\n",
       "      <td>NaN</td>\n",
       "    </tr>\n",
       "    <tr>\n",
       "      <th>2021-12-02</th>\n",
       "      <td>-1.525426</td>\n",
       "      <td>0.148381</td>\n",
       "      <td>-2.307267</td>\n",
       "      <td>-1.209358</td>\n",
       "      <td>1.0</td>\n",
       "    </tr>\n",
       "    <tr>\n",
       "      <th>2021-12-03</th>\n",
       "      <td>1.594105</td>\n",
       "      <td>0.762726</td>\n",
       "      <td>-0.124489</td>\n",
       "      <td>-2.855904</td>\n",
       "      <td>2.0</td>\n",
       "    </tr>\n",
       "    <tr>\n",
       "      <th>2021-12-04</th>\n",
       "      <td>1.860420</td>\n",
       "      <td>1.240073</td>\n",
       "      <td>-0.833928</td>\n",
       "      <td>1.886930</td>\n",
       "      <td>3.0</td>\n",
       "    </tr>\n",
       "    <tr>\n",
       "      <th>2021-12-05</th>\n",
       "      <td>-1.559737</td>\n",
       "      <td>0.551413</td>\n",
       "      <td>0.260708</td>\n",
       "      <td>0.340848</td>\n",
       "      <td>4.0</td>\n",
       "    </tr>\n",
       "    <tr>\n",
       "      <th>2021-12-06</th>\n",
       "      <td>0.446557</td>\n",
       "      <td>0.311279</td>\n",
       "      <td>-1.327899</td>\n",
       "      <td>1.054189</td>\n",
       "      <td>5.0</td>\n",
       "    </tr>\n",
       "  </tbody>\n",
       "</table>\n",
       "</div>"
      ],
      "text/plain": [
       "                   A         B         C         D    F\n",
       "2021-12-01 -0.687586  0.081658 -0.173364 -0.493577  NaN\n",
       "2021-12-02 -1.525426  0.148381 -2.307267 -1.209358  1.0\n",
       "2021-12-03  1.594105  0.762726 -0.124489 -2.855904  2.0\n",
       "2021-12-04  1.860420  1.240073 -0.833928  1.886930  3.0\n",
       "2021-12-05 -1.559737  0.551413  0.260708  0.340848  4.0\n",
       "2021-12-06  0.446557  0.311279 -1.327899  1.054189  5.0"
      ]
     },
     "execution_count": 14,
     "metadata": {},
     "output_type": "execute_result"
    }
   ],
   "source": [
    "#La définition d'une nouvelle colonne aligne automatiquement les données par les index. \n",
    "df"
   ]
  },
  {
   "cell_type": "code",
   "execution_count": 15,
   "metadata": {},
   "outputs": [],
   "source": [
    "df.at[dates[0], \"A\"] = 0 # ici dates c'est le nom de l'index\n",
    "#la ligne suivante fait la meme chose \n",
    "# df.iat[0, 1] = 0"
   ]
  },
  {
   "cell_type": "code",
   "execution_count": 16,
   "metadata": {},
   "outputs": [
    {
     "data": {
      "text/html": [
       "<div>\n",
       "<style scoped>\n",
       "    .dataframe tbody tr th:only-of-type {\n",
       "        vertical-align: middle;\n",
       "    }\n",
       "\n",
       "    .dataframe tbody tr th {\n",
       "        vertical-align: top;\n",
       "    }\n",
       "\n",
       "    .dataframe thead th {\n",
       "        text-align: right;\n",
       "    }\n",
       "</style>\n",
       "<table border=\"1\" class=\"dataframe\">\n",
       "  <thead>\n",
       "    <tr style=\"text-align: right;\">\n",
       "      <th></th>\n",
       "      <th>A</th>\n",
       "      <th>B</th>\n",
       "      <th>C</th>\n",
       "      <th>D</th>\n",
       "      <th>F</th>\n",
       "    </tr>\n",
       "  </thead>\n",
       "  <tbody>\n",
       "    <tr>\n",
       "      <th>2021-12-01</th>\n",
       "      <td>0.000000</td>\n",
       "      <td>0.081658</td>\n",
       "      <td>-0.173364</td>\n",
       "      <td>-0.493577</td>\n",
       "      <td>NaN</td>\n",
       "    </tr>\n",
       "    <tr>\n",
       "      <th>2021-12-02</th>\n",
       "      <td>-1.525426</td>\n",
       "      <td>0.148381</td>\n",
       "      <td>-2.307267</td>\n",
       "      <td>-1.209358</td>\n",
       "      <td>1.0</td>\n",
       "    </tr>\n",
       "    <tr>\n",
       "      <th>2021-12-03</th>\n",
       "      <td>1.594105</td>\n",
       "      <td>0.762726</td>\n",
       "      <td>-0.124489</td>\n",
       "      <td>-2.855904</td>\n",
       "      <td>2.0</td>\n",
       "    </tr>\n",
       "    <tr>\n",
       "      <th>2021-12-04</th>\n",
       "      <td>1.860420</td>\n",
       "      <td>1.240073</td>\n",
       "      <td>-0.833928</td>\n",
       "      <td>1.886930</td>\n",
       "      <td>3.0</td>\n",
       "    </tr>\n",
       "    <tr>\n",
       "      <th>2021-12-05</th>\n",
       "      <td>-1.559737</td>\n",
       "      <td>0.551413</td>\n",
       "      <td>0.260708</td>\n",
       "      <td>0.340848</td>\n",
       "      <td>4.0</td>\n",
       "    </tr>\n",
       "    <tr>\n",
       "      <th>2021-12-06</th>\n",
       "      <td>0.446557</td>\n",
       "      <td>0.311279</td>\n",
       "      <td>-1.327899</td>\n",
       "      <td>1.054189</td>\n",
       "      <td>5.0</td>\n",
       "    </tr>\n",
       "  </tbody>\n",
       "</table>\n",
       "</div>"
      ],
      "text/plain": [
       "                   A         B         C         D    F\n",
       "2021-12-01  0.000000  0.081658 -0.173364 -0.493577  NaN\n",
       "2021-12-02 -1.525426  0.148381 -2.307267 -1.209358  1.0\n",
       "2021-12-03  1.594105  0.762726 -0.124489 -2.855904  2.0\n",
       "2021-12-04  1.860420  1.240073 -0.833928  1.886930  3.0\n",
       "2021-12-05 -1.559737  0.551413  0.260708  0.340848  4.0\n",
       "2021-12-06  0.446557  0.311279 -1.327899  1.054189  5.0"
      ]
     },
     "execution_count": 16,
     "metadata": {},
     "output_type": "execute_result"
    }
   ],
   "source": [
    "df"
   ]
  },
  {
   "cell_type": "markdown",
   "metadata": {},
   "source": [
    "<h3 style='color:blue'> Afficher des stats sur les données "
   ]
  },
  {
   "cell_type": "code",
   "execution_count": 17,
   "metadata": {},
   "outputs": [
    {
     "data": {
      "text/html": [
       "<div>\n",
       "<style scoped>\n",
       "    .dataframe tbody tr th:only-of-type {\n",
       "        vertical-align: middle;\n",
       "    }\n",
       "\n",
       "    .dataframe tbody tr th {\n",
       "        vertical-align: top;\n",
       "    }\n",
       "\n",
       "    .dataframe thead th {\n",
       "        text-align: right;\n",
       "    }\n",
       "</style>\n",
       "<table border=\"1\" class=\"dataframe\">\n",
       "  <thead>\n",
       "    <tr style=\"text-align: right;\">\n",
       "      <th></th>\n",
       "      <th>A</th>\n",
       "      <th>B</th>\n",
       "      <th>C</th>\n",
       "      <th>D</th>\n",
       "      <th>F</th>\n",
       "    </tr>\n",
       "  </thead>\n",
       "  <tbody>\n",
       "    <tr>\n",
       "      <th>count</th>\n",
       "      <td>6.000000</td>\n",
       "      <td>6.000000</td>\n",
       "      <td>6.000000</td>\n",
       "      <td>6.000000</td>\n",
       "      <td>5.000000</td>\n",
       "    </tr>\n",
       "    <tr>\n",
       "      <th>mean</th>\n",
       "      <td>0.135987</td>\n",
       "      <td>0.515922</td>\n",
       "      <td>-0.751040</td>\n",
       "      <td>-0.212812</td>\n",
       "      <td>3.000000</td>\n",
       "    </tr>\n",
       "    <tr>\n",
       "      <th>std</th>\n",
       "      <td>1.473126</td>\n",
       "      <td>0.436375</td>\n",
       "      <td>0.949883</td>\n",
       "      <td>1.695796</td>\n",
       "      <td>1.581139</td>\n",
       "    </tr>\n",
       "    <tr>\n",
       "      <th>min</th>\n",
       "      <td>-1.559737</td>\n",
       "      <td>0.081658</td>\n",
       "      <td>-2.307267</td>\n",
       "      <td>-2.855904</td>\n",
       "      <td>1.000000</td>\n",
       "    </tr>\n",
       "    <tr>\n",
       "      <th>25%</th>\n",
       "      <td>-1.144069</td>\n",
       "      <td>0.189106</td>\n",
       "      <td>-1.204407</td>\n",
       "      <td>-1.030413</td>\n",
       "      <td>2.000000</td>\n",
       "    </tr>\n",
       "    <tr>\n",
       "      <th>50%</th>\n",
       "      <td>0.223279</td>\n",
       "      <td>0.431346</td>\n",
       "      <td>-0.503646</td>\n",
       "      <td>-0.076364</td>\n",
       "      <td>3.000000</td>\n",
       "    </tr>\n",
       "    <tr>\n",
       "      <th>75%</th>\n",
       "      <td>1.307218</td>\n",
       "      <td>0.709898</td>\n",
       "      <td>-0.136708</td>\n",
       "      <td>0.875854</td>\n",
       "      <td>4.000000</td>\n",
       "    </tr>\n",
       "    <tr>\n",
       "      <th>max</th>\n",
       "      <td>1.860420</td>\n",
       "      <td>1.240073</td>\n",
       "      <td>0.260708</td>\n",
       "      <td>1.886930</td>\n",
       "      <td>5.000000</td>\n",
       "    </tr>\n",
       "  </tbody>\n",
       "</table>\n",
       "</div>"
      ],
      "text/plain": [
       "              A         B         C         D         F\n",
       "count  6.000000  6.000000  6.000000  6.000000  5.000000\n",
       "mean   0.135987  0.515922 -0.751040 -0.212812  3.000000\n",
       "std    1.473126  0.436375  0.949883  1.695796  1.581139\n",
       "min   -1.559737  0.081658 -2.307267 -2.855904  1.000000\n",
       "25%   -1.144069  0.189106 -1.204407 -1.030413  2.000000\n",
       "50%    0.223279  0.431346 -0.503646 -0.076364  3.000000\n",
       "75%    1.307218  0.709898 -0.136708  0.875854  4.000000\n",
       "max    1.860420  1.240073  0.260708  1.886930  5.000000"
      ]
     },
     "execution_count": 17,
     "metadata": {},
     "output_type": "execute_result"
    }
   ],
   "source": [
    "df.describe() # permet d'afficher différents stats sur le DF (mean, min, max ..)"
   ]
  },
  {
   "cell_type": "code",
   "execution_count": 18,
   "metadata": {},
   "outputs": [
    {
     "data": {
      "text/plain": [
       "A    0.135987\n",
       "B    0.515922\n",
       "C   -0.751040\n",
       "D   -0.212812\n",
       "F    3.000000\n",
       "dtype: float64"
      ]
     },
     "execution_count": 18,
     "metadata": {},
     "output_type": "execute_result"
    }
   ],
   "source": [
    "df.mean() # permet d'afficher la moyenne par colonne "
   ]
  },
  {
   "cell_type": "code",
   "execution_count": 19,
   "metadata": {},
   "outputs": [
    {
     "data": {
      "text/plain": [
       "2021-12-01   -0.146321\n",
       "2021-12-02   -0.778734\n",
       "2021-12-03    0.275288\n",
       "2021-12-04    1.430699\n",
       "2021-12-05    0.718647\n",
       "2021-12-06    1.096825\n",
       "Freq: D, dtype: float64"
      ]
     },
     "execution_count": 19,
     "metadata": {},
     "output_type": "execute_result"
    }
   ],
   "source": [
    "df.mean(1) # Même opération sur l'autre axe (index)"
   ]
  },
  {
   "cell_type": "markdown",
   "metadata": {},
   "source": [
    "<h3 style='color:blue'> afficher des graphes"
   ]
  },
  {
   "cell_type": "code",
   "execution_count": 20,
   "metadata": {},
   "outputs": [
    {
     "data": {
      "image/png": "[encoded data removed]",
      "text/plain": [
       "<Figure size 720x360 with 1 Axes>"
      ]
     },
     "metadata": {
      "needs_background": "light"
     },
     "output_type": "display_data"
    }
   ],
   "source": [
    "import matplotlib.pyplot as plt\n",
    "\n",
    "plt.figure(figsize=(10,5))\n",
    "plt.plot(df)\n",
    "plt.xlabel(\"dates\")\n",
    "plt.ylabel(\"valeurs\")\n",
    "plt.grid()"
   ]
  },
  {
   "cell_type": "code",
   "execution_count": 21,
   "metadata": {},
   "outputs": [],
   "source": [
    "# finalement, on peut enregistrer le dataframe dans un fichier CSV\n",
    "#df.to_csv(\"file.csv\")"
   ]
  },
  {
   "cell_type": "code",
   "execution_count": null,
   "metadata": {},
   "outputs": [],
   "source": []
  }
 ],
 "metadata": {
  "kernelspec": {
   "display_name": "Python 3",
   "language": "python",
   "name": "python3"
  },
  "language_info": {
   "codemirror_mode": {
    "name": "ipython",
    "version": 3
   },
   "file_extension": ".py",
   "mimetype": "text/x-python",
   "name": "python",
   "nbconvert_exporter": "python",
   "pygments_lexer": "ipython3",
   "version": "3.8.5"
  }
 },
 "nbformat": 4,
 "nbformat_minor": 4
}
